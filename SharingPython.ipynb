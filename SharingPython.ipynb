{
 "cells": [
  {
   "cell_type": "raw",
   "id": "a00b8d88-fc87-4561-a9f6-e8cd32a5e3aa",
   "metadata": {},
   "source": [
    "---\n",
    "title: \"Sharing Python\"\n",
    "author: \"Isaac Flath\"\n",
    "date: \"9/20/2022\"\n",
    "format:\n",
    "  html:\n",
    "    css: 'styles.css'\n",
    "    number-sections: true\n",
    "    toc: true\n",
    "    theme: cosmo\n",
    "    highlight-style: tango\n",
    "    code-fold: true\n",
    "    self-contained: true\n",
    "---"
   ]
  },
  {
   "cell_type": "markdown",
   "id": "1cde8c20-3fb3-41ed-9b3b-127330d0f336",
   "metadata": {},
   "source": [
    "# Prep"
   ]
  },
  {
   "cell_type": "markdown",
   "id": "9c12fa39-5360-42b7-b98b-98ac07fc447b",
   "metadata": {},
   "source": [
    "::: {.panel-tabset group=\"setup\"}"
   ]
  },
  {
   "cell_type": "markdown",
   "id": "eb3fbf6f-9a04-42b0-a021-fd49f4241e82",
   "metadata": {},
   "source": [
    "## Collapse"
   ]
  },
  {
   "cell_type": "markdown",
   "id": "2c98f922-33ce-4a33-9dab-1400de716f13",
   "metadata": {},
   "source": [
    "## Setup & Imports"
   ]
  },
  {
   "cell_type": "code",
   "execution_count": null,
   "id": "e9416e45-0602-4e71-92fa-508000ad71d3",
   "metadata": {},
   "outputs": [],
   "source": [
    "#| label: imports\n",
    "#| output: false\n",
    "# Load the package\n",
    "import pandas as pd\n",
    "import numpy as np"
   ]
  },
  {
   "cell_type": "markdown",
   "id": "acb4ca05-fd73-4706-8249-59b2dcf1b20d",
   "metadata": {},
   "source": [
    "## Get Data"
   ]
  },
  {
   "cell_type": "markdown",
   "id": "071360e4-7cfa-4942-8175-940877dd2784",
   "metadata": {},
   "source": [
    "### Dataset 1"
   ]
  },
  {
   "cell_type": "code",
   "execution_count": null,
   "id": "34b3951b-80f5-4cc2-989e-ecd8f3b43b01",
   "metadata": {},
   "outputs": [
    {
     "data": {
      "text/plain": [
       "10"
      ]
     },
     "execution_count": null,
     "metadata": {},
     "output_type": "execute_result"
    }
   ],
   "source": [
    "5+5"
   ]
  },
  {
   "cell_type": "markdown",
   "id": "333dc354-d9f0-4412-ad03-d4402ab428be",
   "metadata": {},
   "source": [
    "### Dataset 2"
   ]
  },
  {
   "cell_type": "markdown",
   "id": "3e21e643-ea6c-4d2c-8bef-b609aaf7255d",
   "metadata": {},
   "source": [
    "Other stuff"
   ]
  },
  {
   "cell_type": "markdown",
   "id": "77748179-698e-4353-b009-26c4933375a8",
   "metadata": {},
   "source": [
    "## User Defined Functions"
   ]
  },
  {
   "cell_type": "markdown",
   "id": "919ab107-2db1-4a00-8efc-153d3272b154",
   "metadata": {},
   "source": [
    ":::"
   ]
  },
  {
   "cell_type": "markdown",
   "id": "b3328d17-24ae-4832-9772-bef4db769e30",
   "metadata": {},
   "source": [
    "# Another Section"
   ]
  },
  {
   "cell_type": "markdown",
   "id": "d01d7a66-9e26-41de-b0a1-4250eac2e1f9",
   "metadata": {},
   "source": [
    "::: {.panel-tabset group=\"Sections\"}"
   ]
  },
  {
   "cell_type": "markdown",
   "id": "3a303e85-4f9c-48df-bb82-346627fb5d99",
   "metadata": {},
   "source": [
    "## Common Functionality"
   ]
  },
  {
   "cell_type": "markdown",
   "id": "7b0df5ea-95d3-4e66-86ac-d973eba7266c",
   "metadata": {},
   "source": [
    "abc **some text** with *various markdown* style:\n",
    "\n",
    "+ A list\n",
    "+ in markdown\n",
    "\n",
    "with a particular `function` highlighted in text for clarity"
   ]
  },
  {
   "cell_type": "markdown",
   "id": "af7997e4-f925-41a3-b0da-ee6e89e0e629",
   "metadata": {},
   "source": [
    ":::{.callout-note collapse=\"true\"}\n",
    "## Tip With Caption\n",
    "\n",
    "Note that there are five types of callouts, including:\n",
    "`note`, `warning`, `important`, `tip`, and `caution`.\n",
    ":::\n",
    "\n",
    ":::{.callout-note appearance=\"simple\"}\n",
    "Note that there are five types of callouts, including:\n",
    "`note`, `warning`, `important`, `tip`, and `caution`.\n",
    ":::"
   ]
  },
  {
   "cell_type": "markdown",
   "id": "16dea8cb-fa0e-4716-803a-3a22a8e4ec86",
   "metadata": {},
   "source": [
    "I also sometimes use other types of blocks for example for highlighting quotes I may do.\n",
    "\n",
    "> Quote: Some very interesting Quote can be put here"
   ]
  },
  {
   "cell_type": "markdown",
   "id": "491d2f42-725b-43c9-8759-8f201bdc8ca0",
   "metadata": {},
   "source": [
    "## Collapse"
   ]
  },
  {
   "cell_type": "markdown",
   "id": "cbe0c93a-74aa-4e71-96de-d783c56842d7",
   "metadata": {},
   "source": [
    ":::"
   ]
  },
  {
   "cell_type": "markdown",
   "id": "d3886d28-a377-4073-ab34-8a21a980d0ad",
   "metadata": {},
   "source": [
    "# Yet Another Section"
   ]
  }
 ],
 "metadata": {
  "kernelspec": {
   "display_name": "Python 3 (ipykernel)",
   "language": "python",
   "name": "python3"
  }
 },
 "nbformat": 4,
 "nbformat_minor": 5
}
