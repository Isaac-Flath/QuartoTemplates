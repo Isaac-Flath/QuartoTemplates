{
 "cells": [
  {
   "cell_type": "raw",
   "id": "a00b8d88-fc87-4561-a9f6-e8cd32a5e3aa",
   "metadata": {},
   "source": [
    "---\n",
    "title: \"Sharing R\"\n",
    "author: \"Isaac Flath\"\n",
    "date: \"9/20/2022\"\n",
    "format:\n",
    "  html:\n",
    "    css: 'styles.css'\n",
    "    number-sections: true\n",
    "    toc: true\n",
    "    theme: cosmo\n",
    "    highlight-style: tango\n",
    "    code-fold: true\n",
    "    self-contained: true\n",
    "---"
   ]
  },
  {
   "cell_type": "markdown",
   "id": "1cde8c20-3fb3-41ed-9b3b-127330d0f336",
   "metadata": {},
   "source": [
    "# Prep"
   ]
  },
  {
   "cell_type": "markdown",
   "id": "9c12fa39-5360-42b7-b98b-98ac07fc447b",
   "metadata": {},
   "source": [
    "::: {.panel-tabset group=\"language\"}"
   ]
  },
  {
   "cell_type": "markdown",
   "id": "2c98f922-33ce-4a33-9dab-1400de716f13",
   "metadata": {},
   "source": [
    "## Setup & Imports"
   ]
  },
  {
   "cell_type": "code",
   "execution_count": null,
   "id": "e9416e45-0602-4e71-92fa-508000ad71d3",
   "metadata": {},
   "outputs": [],
   "source": [
    "#| label: imports\n",
    "#| output: false\n",
    "\n",
    "# install.packages(c(\"ggplot2\",\"scaes\",\"patchwork\",\"RColorBrewer\",\"corrplot\",\"ggthemes\",\"viridis\",\"gt\"))\n",
    "library('ggplot2') # visualisation\n",
    "library('scales') # visualisation\n",
    "library('patchwork') # visualisation\n",
    "library('RColorBrewer') # visualisation\n",
    "library('corrplot') # visualisation\n",
    "library('gt') # table styling\n",
    "# install.packages(c(\"dplyr\",\"readr\",\"vroom\",\"tibble\",\"tidyr\",\"stringr\",\"forcats\",\"janitor\",\"lubridate\"))\n",
    "library('dplyr') # data manipulation\n",
    "library('readr') # input/output\n",
    "library('vroom') # input/output\n",
    "library('tibble') # data wrangling\n",
    "library('tidyr') # data wrangling\n",
    "library('stringr') # string manipulation\n",
    "library('janitor') # cleaning\n",
    "library('lubridate') # Date wrangling\n",
    "# install.packages(c(\"glue\",\"naniar\",\"ggrepel\",\"grid\",\"GGally\",\"ggforce\",\"ggtext\"))\n",
    "library('glue') # encoding\n",
    "library('naniar') # missing values"
   ]
  },
  {
   "cell_type": "markdown",
   "id": "acb4ca05-fd73-4706-8249-59b2dcf1b20d",
   "metadata": {},
   "source": [
    "## Get Data"
   ]
  },
  {
   "cell_type": "markdown",
   "id": "071360e4-7cfa-4942-8175-940877dd2784",
   "metadata": {},
   "source": [
    "### Dataset 1"
   ]
  },
  {
   "cell_type": "code",
   "execution_count": null,
   "id": "34b3951b-80f5-4cc2-989e-ecd8f3b43b01",
   "metadata": {},
   "outputs": [
    {
     "data": {
      "text/plain": [
       "10"
      ]
     },
     "execution_count": null,
     "metadata": {},
     "output_type": "execute_result"
    }
   ],
   "source": [
    "5+5"
   ]
  },
  {
   "cell_type": "markdown",
   "id": "333dc354-d9f0-4412-ad03-d4402ab428be",
   "metadata": {},
   "source": [
    "### Dataset 2"
   ]
  },
  {
   "cell_type": "markdown",
   "id": "3e21e643-ea6c-4d2c-8bef-b609aaf7255d",
   "metadata": {},
   "source": [
    "Other stuff"
   ]
  },
  {
   "cell_type": "markdown",
   "id": "77748179-698e-4353-b009-26c4933375a8",
   "metadata": {},
   "source": [
    "## User Defined Functions"
   ]
  },
  {
   "cell_type": "markdown",
   "id": "919ab107-2db1-4a00-8efc-153d3272b154",
   "metadata": {},
   "source": [
    ":::"
   ]
  },
  {
   "cell_type": "markdown",
   "id": "b3328d17-24ae-4832-9772-bef4db769e30",
   "metadata": {},
   "source": [
    "# Rest of stuff here"
   ]
  },
  {
   "cell_type": "markdown",
   "id": "7b0df5ea-95d3-4e66-86ac-d973eba7266c",
   "metadata": {},
   "source": [
    "abc **some text** with *various markdown* style:\n",
    "\n",
    "+ A list\n",
    "+ in markdown\n",
    "\n",
    "with a particular `function` highlighted in text for clarity"
   ]
  },
  {
   "cell_type": "markdown",
   "id": "af7997e4-f925-41a3-b0da-ee6e89e0e629",
   "metadata": {},
   "source": [
    ":::{.callout-note collapse=\"true\"}\n",
    "## Tip With Caption\n",
    "\n",
    "Note that there are five types of callouts, including:\n",
    "`note`, `warning`, `important`, `tip`, and `caution`.\n",
    ":::\n",
    "\n",
    ":::{.callout-note appearance=\"simple\"}\n",
    "Note that there are five types of callouts, including:\n",
    "`note`, `warning`, `important`, `tip`, and `caution`.\n",
    ":::"
   ]
  },
  {
   "cell_type": "markdown",
   "id": "16dea8cb-fa0e-4716-803a-3a22a8e4ec86",
   "metadata": {},
   "source": [
    "I also sometimes use other types of blocks for example for highlighting quotes I may do.\n",
    "\n",
    "> Quote: Some very interesting Quote can be put here"
   ]
  },
  {
   "cell_type": "code",
   "execution_count": null,
   "id": "37b69f98-930c-490b-99dd-78aa988dca7a",
   "metadata": {},
   "outputs": [],
   "source": []
  },
  {
   "cell_type": "code",
   "execution_count": null,
   "id": "9cd4ed00-7157-4696-939a-0d71b4f45eeb",
   "metadata": {},
   "outputs": [],
   "source": []
  }
 ],
 "metadata": {
  "kernelspec": {
   "display_name": "R",
   "language": "R",
   "name": "ir"
  }
 },
 "nbformat": 4,
 "nbformat_minor": 5
}
